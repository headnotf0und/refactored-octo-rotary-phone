{
  "nbformat": 4,
  "nbformat_minor": 0,
  "metadata": {
    "colab": {
      "provenance": [],
      "authorship_tag": "ABX9TyOrKVcuomIOiqXlfLm9q8ki",
      "include_colab_link": true
    },
    "kernelspec": {
      "name": "python3",
      "display_name": "Python 3"
    },
    "language_info": {
      "name": "python"
    }
  },
  "cells": [
    {
      "cell_type": "markdown",
      "metadata": {
        "id": "view-in-github",
        "colab_type": "text"
      },
      "source": [
        "<a href=\"https://colab.research.google.com/github/headnotf0und/refactored-octo-rotary-phone/blob/main/Chromebooki_rev_0.ipynb\" target=\"_parent\"><img src=\"https://colab.research.google.com/assets/colab-badge.svg\" alt=\"Open In Colab\"/></a>"
      ]
    },
    {
      "cell_type": "code",
      "source": [
        "!pip install pymcdm"
      ],
      "metadata": {
        "collapsed": true,
        "colab": {
          "base_uri": "https://localhost:8080/"
        },
        "id": "172ICe7hBM3K",
        "outputId": "7298297e-d4d8-48a4-e361-ab3289aaeec0"
      },
      "execution_count": 1,
      "outputs": [
        {
          "output_type": "stream",
          "name": "stdout",
          "text": [
            "Collecting pymcdm\n",
            "  Downloading pymcdm-1.2.0-py3-none-any.whl (106 kB)\n",
            "\u001b[2K     \u001b[90m━━━━━━━━━━━━━━━━━━━━━━━━━━━━━━━━━━━━━━━━\u001b[0m \u001b[32m106.1/106.1 kB\u001b[0m \u001b[31m1.3 MB/s\u001b[0m eta \u001b[36m0:00:00\u001b[0m\n",
            "\u001b[?25hRequirement already satisfied: numpy in /usr/local/lib/python3.10/dist-packages (from pymcdm) (1.25.2)\n",
            "Requirement already satisfied: scipy in /usr/local/lib/python3.10/dist-packages (from pymcdm) (1.11.4)\n",
            "Requirement already satisfied: matplotlib in /usr/local/lib/python3.10/dist-packages (from pymcdm) (3.7.1)\n",
            "Requirement already satisfied: tabulate in /usr/local/lib/python3.10/dist-packages (from pymcdm) (0.9.0)\n",
            "Requirement already satisfied: contourpy>=1.0.1 in /usr/local/lib/python3.10/dist-packages (from matplotlib->pymcdm) (1.2.1)\n",
            "Requirement already satisfied: cycler>=0.10 in /usr/local/lib/python3.10/dist-packages (from matplotlib->pymcdm) (0.12.1)\n",
            "Requirement already satisfied: fonttools>=4.22.0 in /usr/local/lib/python3.10/dist-packages (from matplotlib->pymcdm) (4.53.0)\n",
            "Requirement already satisfied: kiwisolver>=1.0.1 in /usr/local/lib/python3.10/dist-packages (from matplotlib->pymcdm) (1.4.5)\n",
            "Requirement already satisfied: packaging>=20.0 in /usr/local/lib/python3.10/dist-packages (from matplotlib->pymcdm) (24.1)\n",
            "Requirement already satisfied: pillow>=6.2.0 in /usr/local/lib/python3.10/dist-packages (from matplotlib->pymcdm) (9.4.0)\n",
            "Requirement already satisfied: pyparsing>=2.3.1 in /usr/local/lib/python3.10/dist-packages (from matplotlib->pymcdm) (3.1.2)\n",
            "Requirement already satisfied: python-dateutil>=2.7 in /usr/local/lib/python3.10/dist-packages (from matplotlib->pymcdm) (2.8.2)\n",
            "Requirement already satisfied: six>=1.5 in /usr/local/lib/python3.10/dist-packages (from python-dateutil>=2.7->matplotlib->pymcdm) (1.16.0)\n",
            "Installing collected packages: pymcdm\n",
            "Successfully installed pymcdm-1.2.0\n"
          ]
        }
      ]
    },
    {
      "cell_type": "code",
      "source": [
        "import pymcdm as pm\n",
        "import numpy as np"
      ],
      "metadata": {
        "id": "CdQjYpkHBaXS"
      },
      "execution_count": 2,
      "outputs": []
    },
    {
      "cell_type": "code",
      "source": [
        "# Dane o Chromebookach w formie listy list bez kolumny z nazwą modelu\n",
        "chromebooks = np.array([\n",
        "    [325, 11, 32, 4, 2436, 2], # Acer Spin 511\n",
        "    [259, 11, 32, 4, 1178, 0], # Acer R11\n",
        "    [339, 11, 32, 4, 1423, 0], # ASUS Chromebook C214M\n",
        "    [300, 14, 64, 8, 2867, 5], # ASUS CHROMEBOOK C433T\n",
        "    [309, 14, 64, 8, 1107, 3]  # Asus Chromebook C523N\n",
        "])\n",
        "\n",
        "# Wyświetlenie danych\n",
        "for chromebook in chromebooks:\n",
        "    print(chromebook)\n",
        "\n"
      ],
      "metadata": {
        "colab": {
          "base_uri": "https://localhost:8080/"
        },
        "id": "EXvbb-YIbG2r",
        "outputId": "710b0351-65e0-4be2-9363-ecd5f5b41a53"
      },
      "execution_count": 3,
      "outputs": [
        {
          "output_type": "stream",
          "name": "stdout",
          "text": [
            "[ 325   11   32    4 2436    2]\n",
            "[ 259   11   32    4 1178    0]\n",
            "[ 339   11   32    4 1423    0]\n",
            "[ 300   14   64    8 2867    5]\n",
            "[ 309   14   64    8 1107    3]\n"
          ]
        }
      ]
    },
    {
      "cell_type": "code",
      "source": [
        "# Zdefiniuj wagi dla każdego kryterium\n",
        "weights = np.ones(6) / 6\n",
        "# Zdefiniuj zysk / strata dla każdego kryterium\n",
        "types = np.array([-1, -1, 1, 1, 1, 1,])\n",
        "# 1 jako zysk (max), -1 jako koszt (min)"
      ],
      "metadata": {
        "id": "b7Bhd70h5wKy"
      },
      "execution_count": 4,
      "outputs": []
    },
    {
      "cell_type": "code",
      "source": [
        "topsis = pm.methods.TOPSIS()\n",
        "\n",
        "pref = topsis(chromebooks, weights, types)\n",
        "\n",
        "rank = topsis.rank(pref)\n",
        "# W przypadku metody TOPSIS najbardziej znacząca wartość preferencji (bliższa do 1) oznacza lepszą alternatywę.\n",
        "print(np.round(pref, 4))\n",
        "print('Alternatywy od najlepszej:', rank)\n"
      ],
      "metadata": {
        "id": "V50HVMhy4ZLy",
        "colab": {
          "base_uri": "https://localhost:8080/"
        },
        "outputId": "244c6543-1868-4017-899e-bdf1421a2b61"
      },
      "execution_count": 5,
      "outputs": [
        {
          "output_type": "stream",
          "name": "stdout",
          "text": [
            "[0.4297 0.4167 0.3197 0.6469 0.4975]\n",
            "Alternatywy od najlepszej: [3. 4. 5. 1. 2.]\n"
          ]
        }
      ]
    }
  ]
}