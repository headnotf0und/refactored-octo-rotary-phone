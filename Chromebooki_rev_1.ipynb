{
  "nbformat": 4,
  "nbformat_minor": 0,
  "metadata": {
    "colab": {
      "provenance": [],
      "authorship_tag": "ABX9TyNFFbJKXk87BROzL0cN0YxW",
      "include_colab_link": true
    },
    "kernelspec": {
      "name": "python3",
      "display_name": "Python 3"
    },
    "language_info": {
      "name": "python"
    }
  },
  "cells": [
    {
      "cell_type": "markdown",
      "metadata": {
        "id": "view-in-github",
        "colab_type": "text"
      },
      "source": [
        "<a href=\"https://colab.research.google.com/github/headnotf0und/refactored-octo-rotary-phone/blob/main/Chromebooki_rev_1.ipynb\" target=\"_parent\"><img src=\"https://colab.research.google.com/assets/colab-badge.svg\" alt=\"Open In Colab\"/></a>"
      ]
    },
    {
      "cell_type": "code",
      "source": [
        "!pip install pymcdm"
      ],
      "metadata": {
        "collapsed": true,
        "colab": {
          "base_uri": "https://localhost:8080/"
        },
        "id": "172ICe7hBM3K",
        "outputId": "5e15021c-5064-4437-8b05-40094d4ade73"
      },
      "execution_count": 1,
      "outputs": [
        {
          "output_type": "stream",
          "name": "stdout",
          "text": [
            "Collecting pymcdm\n",
            "  Downloading pymcdm-1.2.0-py3-none-any.whl (106 kB)\n",
            "\u001b[2K     \u001b[90m━━━━━━━━━━━━━━━━━━━━━━━━━━━━━━━━━━━━━━━━\u001b[0m \u001b[32m106.1/106.1 kB\u001b[0m \u001b[31m1.2 MB/s\u001b[0m eta \u001b[36m0:00:00\u001b[0m\n",
            "\u001b[?25hRequirement already satisfied: numpy in /usr/local/lib/python3.10/dist-packages (from pymcdm) (1.25.2)\n",
            "Requirement already satisfied: scipy in /usr/local/lib/python3.10/dist-packages (from pymcdm) (1.11.4)\n",
            "Requirement already satisfied: matplotlib in /usr/local/lib/python3.10/dist-packages (from pymcdm) (3.7.1)\n",
            "Requirement already satisfied: tabulate in /usr/local/lib/python3.10/dist-packages (from pymcdm) (0.9.0)\n",
            "Requirement already satisfied: contourpy>=1.0.1 in /usr/local/lib/python3.10/dist-packages (from matplotlib->pymcdm) (1.2.1)\n",
            "Requirement already satisfied: cycler>=0.10 in /usr/local/lib/python3.10/dist-packages (from matplotlib->pymcdm) (0.12.1)\n",
            "Requirement already satisfied: fonttools>=4.22.0 in /usr/local/lib/python3.10/dist-packages (from matplotlib->pymcdm) (4.53.0)\n",
            "Requirement already satisfied: kiwisolver>=1.0.1 in /usr/local/lib/python3.10/dist-packages (from matplotlib->pymcdm) (1.4.5)\n",
            "Requirement already satisfied: packaging>=20.0 in /usr/local/lib/python3.10/dist-packages (from matplotlib->pymcdm) (24.1)\n",
            "Requirement already satisfied: pillow>=6.2.0 in /usr/local/lib/python3.10/dist-packages (from matplotlib->pymcdm) (9.4.0)\n",
            "Requirement already satisfied: pyparsing>=2.3.1 in /usr/local/lib/python3.10/dist-packages (from matplotlib->pymcdm) (3.1.2)\n",
            "Requirement already satisfied: python-dateutil>=2.7 in /usr/local/lib/python3.10/dist-packages (from matplotlib->pymcdm) (2.8.2)\n",
            "Requirement already satisfied: six>=1.5 in /usr/local/lib/python3.10/dist-packages (from python-dateutil>=2.7->matplotlib->pymcdm) (1.16.0)\n",
            "Installing collected packages: pymcdm\n",
            "Successfully installed pymcdm-1.2.0\n"
          ]
        }
      ]
    },
    {
      "cell_type": "code",
      "source": [
        "import pymcdm as pm\n",
        "import numpy as np\n",
        "#import pandas as pd"
      ],
      "metadata": {
        "id": "CdQjYpkHBaXS"
      },
      "execution_count": 7,
      "outputs": []
    },
    {
      "cell_type": "code",
      "source": [
        "# Dane o Chromebookach w formie listy list bez kolumny z nazwą modelu\n",
        "chromebooks = np.array([\n",
        "    [325, 11, 32, 4, 2436, 2, 1],\n",
        "    [259, 11, 32, 4, 1178, 0, 1],\n",
        "    [339, 11, 32, 4, 1423, 0, 0],\n",
        "    [300, 14, 64, 8, 2867, 5, 0],\n",
        "    [309, 14, 64, 8, 1107, 3, 0]\n",
        "])\n",
        "\n",
        "# Nazwy Chromebooków\n",
        "chromebook_names = [\"Acer Spin 511\", \"Acer R11\", \"ASUS Chromebook C214M\", \"ASUS CHROMEBOOK C433T\", \"Asus Chromebook C523N\"]\n",
        "\n",
        "# Wyświetlenie danych z opisem kolumn\n",
        "for name, chromebook in zip(chromebook_names, chromebooks):\n",
        "    print(f\"{name}: Cena w PLN = {chromebook[0]}, Przekątna ekranu = {chromebook[1]}, Pojemność pamięci = {chromebook[2]}, RAM = {chromebook[3]}, Moc procesora = {chromebook[4]}, EOL w latach = {chromebook[5]}, Ekran IPS = {chromebook[6]}\")\n",
        "\n"
      ],
      "metadata": {
        "colab": {
          "base_uri": "https://localhost:8080/"
        },
        "id": "EXvbb-YIbG2r",
        "outputId": "775e2c0c-4d9f-4742-edad-b27b8f1ee3a9"
      },
      "execution_count": 8,
      "outputs": [
        {
          "output_type": "stream",
          "name": "stdout",
          "text": [
            "Acer Spin 511: Cena w PLN = 325, Przekątna ekranu = 11, Pojemność pamięci = 32, RAM = 4, Moc procesora = 2436, EOL w latach = 2, Ekran IPS = 1\n",
            "Acer R11: Cena w PLN = 259, Przekątna ekranu = 11, Pojemność pamięci = 32, RAM = 4, Moc procesora = 1178, EOL w latach = 0, Ekran IPS = 1\n",
            "ASUS Chromebook C214M: Cena w PLN = 339, Przekątna ekranu = 11, Pojemność pamięci = 32, RAM = 4, Moc procesora = 1423, EOL w latach = 0, Ekran IPS = 0\n",
            "ASUS CHROMEBOOK C433T: Cena w PLN = 300, Przekątna ekranu = 14, Pojemność pamięci = 64, RAM = 8, Moc procesora = 2867, EOL w latach = 5, Ekran IPS = 0\n",
            "Asus Chromebook C523N: Cena w PLN = 309, Przekątna ekranu = 14, Pojemność pamięci = 64, RAM = 8, Moc procesora = 1107, EOL w latach = 3, Ekran IPS = 0\n"
          ]
        }
      ]
    },
    {
      "cell_type": "code",
      "source": [
        "# Zdefiniuj wagi dla każdego kryterium\n",
        "weights = np.ones(7) / 7\n",
        "# Zdefiniuj zysk / strata dla każdego kryterium\n",
        "types = np.array([-1, -1, 1, 1, 1, 1, 1])\n",
        "# 1 jako zysk (max), -1 jako koszt (min)"
      ],
      "metadata": {
        "id": "b7Bhd70h5wKy"
      },
      "execution_count": 9,
      "outputs": []
    },
    {
      "cell_type": "code",
      "source": [
        "# Inicjalizuj metodę TOPSIS\n",
        "topsis = pm.methods.TOPSIS()\n",
        "\n",
        "# Zastosuj metodę TOPSIS\n",
        "pref = topsis(chromebooks, weights, types)\n",
        "\n",
        "# Oceń alternatywy\n",
        "rank = topsis.rank(pref)\n",
        "\n",
        "# Wyświetl oceny preferencji i rankingi\n",
        "print(\"Oceny preferencji:\")\n",
        "print(np.round(pref, 4))\n",
        "# W przypadku metody TOPSIS najbardziej znacząca wartość preferencji (bliższa do 1) oznacza lepszą alternatywę.\n",
        "\n",
        "# Wyświetl ranking z nazwami Chromebooków\n",
        "print(\"\\nRankingi:\")\n",
        "ranked_chromebooks = sorted(zip(rank, chromebook_names), key=lambda x: x[0])\n",
        "for r, name in ranked_chromebooks:\n",
        "    print(f\"{name}: Rank {r}\")\n"
      ],
      "metadata": {
        "id": "V50HVMhy4ZLy",
        "colab": {
          "base_uri": "https://localhost:8080/"
        },
        "outputId": "edebb8df-3ab7-429f-fc5f-92329df8d6ae"
      },
      "execution_count": 10,
      "outputs": [
        {
          "output_type": "stream",
          "name": "stdout",
          "text": [
            "Oceny preferencji:\n",
            "[0.4855 0.4667 0.299  0.5778 0.4563]\n",
            "\n",
            "Rankingi:\n",
            "ASUS CHROMEBOOK C433T: Rank 1.0\n",
            "Acer Spin 511: Rank 2.0\n",
            "Acer R11: Rank 3.0\n",
            "Asus Chromebook C523N: Rank 4.0\n",
            "ASUS Chromebook C214M: Rank 5.0\n"
          ]
        }
      ]
    }
  ]
}